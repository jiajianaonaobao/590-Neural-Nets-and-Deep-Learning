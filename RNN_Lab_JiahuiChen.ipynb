{
  "nbformat": 4,
  "nbformat_minor": 0,
  "metadata": {
    "accelerator": "GPU",
    "colab": {
      "name": "RNN_Lab.ipynb",
      "provenance": [],
      "collapsed_sections": []
    },
    "kernelspec": {
      "display_name": "Python 3",
      "language": "python",
      "name": "python3"
    },
    "language_info": {
      "codemirror_mode": {
        "name": "ipython",
        "version": 3
      },
      "file_extension": ".py",
      "mimetype": "text/x-python",
      "name": "python",
      "nbconvert_exporter": "python",
      "pygments_lexer": "ipython3",
      "version": "3.7.3"
    }
  },
  "cells": [
    {
      "cell_type": "code",
      "metadata": {
        "id": "XOkBF0K6P6MC"
      },
      "source": [
        "import tensorflow as tf\n",
        "import tensorflow.keras as tfk\n",
        "import tensorflow.keras.layers as tfkl\n",
        "from tensorflow.keras.models import Sequential\n",
        "\n",
        "from google.colab import drive\n",
        "import numpy as np\n",
        "import pandas as pd"
      ],
      "execution_count": 2,
      "outputs": []
    },
    {
      "cell_type": "markdown",
      "metadata": {
        "id": "KdCU982WwzFo"
      },
      "source": [
        "In this example, we're going to train a [CharRNN](http://karpathy.github.io/2015/05/21/rnn-effectiveness/) on a body of Shakespearian text. Ultimtely, this is an unsuperived learning task. But similar to our previous explorations in unsupervised DL, we will use an unlabeled dataset and create many samples of labeled data that we can use with our familiar supervised loss functions. The result will be a model that has learned the statistical properties of the input text, and can then be considered a \"generative\" model of language because we can use it to generate synthetic passages of Shakespeare.  "
      ]
    },
    {
      "cell_type": "code",
      "metadata": {
        "id": "dX7qrncTRKN0",
        "colab": {
          "base_uri": "https://localhost:8080/"
        },
        "outputId": "470b6fa4-b348-4d8b-b2db-306e85b8df3e"
      },
      "source": [
        "drive.mount('/content/gdrive/')"
      ],
      "execution_count": 3,
      "outputs": [
        {
          "output_type": "stream",
          "text": [
            "Mounted at /content/gdrive/\n"
          ],
          "name": "stdout"
        }
      ]
    },
    {
      "cell_type": "code",
      "metadata": {
        "id": "6iek9QSARq1L"
      },
      "source": [
        "file_path = \"/content/gdrive/My Drive/anly590-datasets/shakespeare.txt\"\n",
        "\n",
        "with open(file_path,\"r\") as f:\n",
        "  text = f.read()"
      ],
      "execution_count": 4,
      "outputs": []
    },
    {
      "cell_type": "markdown",
      "metadata": {
        "id": "ie2LtLF4Vv6A"
      },
      "source": [
        "We've loaded our Shakespeare text, let's take a look at a random snippet."
      ]
    },
    {
      "cell_type": "code",
      "metadata": {
        "id": "LVFmTUsGWePe",
        "colab": {
          "base_uri": "https://localhost:8080/"
        },
        "outputId": "a3630159-b64f-40bc-ca63-1f5ceb5a881a"
      },
      "source": [
        "print(text[31600:32000])"
      ],
      "execution_count": 5,
      "outputs": [
        {
          "output_type": "stream",
          "text": [
            " lies i' the second chamber?\n",
            "  LADY MACBETH. Donalbain.\n",
            "  MACBETH. This is a sorry sight.           [Looks on his hands.\n",
            "  LADY MACBETH. A foolish thought, to say a sorry sight.\n",
            "  MACBETH. There's one did laugh in 's sleep, and one cried,\n",
            "      \"Murther!\"\n",
            "    That they did wake each other. I stood and heard them,\n",
            "    But they did say their prayers and address'd them\n",
            "    Again to sleep.\n",
            "  LADY MACB\n"
          ],
          "name": "stdout"
        }
      ]
    },
    {
      "cell_type": "markdown",
      "metadata": {
        "id": "qLXQHFUsW0xu"
      },
      "source": [
        "We need to convert our text into numeric arrays, the next several blocks accomplish this.\n",
        "\n",
        "First, we'll create a mapping between characters and their numeric index. We'll also create the reverse mapping, which is useful."
      ]
    },
    {
      "cell_type": "code",
      "metadata": {
        "id": "UkvcQEUASXQG",
        "colab": {
          "base_uri": "https://localhost:8080/"
        },
        "outputId": "ac4d9b85-3787-487e-a169-9c931b197d70"
      },
      "source": [
        "chars = sorted(list(set(text)))\n",
        "print('total chars:', len(chars))\n",
        "char_indices = dict((c, i) for i, c in enumerate(chars))\n",
        "indices_char = dict((i, c) for i, c in enumerate(chars))"
      ],
      "execution_count": 6,
      "outputs": [
        {
          "output_type": "stream",
          "text": [
            "total chars: 75\n"
          ],
          "name": "stdout"
        }
      ]
    },
    {
      "cell_type": "markdown",
      "metadata": {
        "id": "XexyPZdAXC0p"
      },
      "source": [
        "Next, we'll create a training set of sub-sequences. Remember, we're trying to train a model to be able to predict the next chracter if it is given several characters of a subsequence. So we will create training pairs where each X is a fixed-length subsequences and each Y is the corresponding next letter in the text."
      ]
    },
    {
      "cell_type": "code",
      "metadata": {
        "id": "ej4RdC76S7RB",
        "colab": {
          "base_uri": "https://localhost:8080/"
        },
        "outputId": "1fc3bd2f-00cb-4161-9a72-e49b9f31b1ba"
      },
      "source": [
        "maxlen = 40\n",
        "step = 3\n",
        "sub_sequences = []\n",
        "next_chars = []\n",
        "for i in range(0, len(text) - maxlen, step):\n",
        "    sub_sequences.append(text[i: i + maxlen])\n",
        "    next_chars.append(text[i + maxlen])\n",
        "print('nb sequences:', len(sub_sequences))"
      ],
      "execution_count": 7,
      "outputs": [
        {
          "output_type": "stream",
          "text": [
            "nb sequences: 38700\n"
          ],
          "name": "stdout"
        }
      ]
    },
    {
      "cell_type": "code",
      "metadata": {
        "id": "QVHru3qPWX8Z",
        "colab": {
          "base_uri": "https://localhost:8080/"
        },
        "outputId": "913ab606-6845-4110-8434-4a3c7d0fcac2"
      },
      "source": [
        "k=300\n",
        "print(\"(Sequence):\\n\" + sub_sequences[k])\n",
        "print(\"\\n(Target Character): \\n\" + next_chars[k])"
      ],
      "execution_count": 8,
      "outputs": [
        {
          "output_type": "stream",
          "text": [
            "(Sequence):\n",
            " and other Apparitions\n",
            "  Lords, Gentleme\n",
            "\n",
            "(Target Character): \n",
            "n\n"
          ],
          "name": "stdout"
        }
      ]
    },
    {
      "cell_type": "markdown",
      "metadata": {
        "id": "vD2QxlOAW8zQ"
      },
      "source": [
        "Next we'll create one-hot vectors for our sub-sequences. The tensor we create here will be shaped as (num_sequences x sequence_length x alphabet_size)."
      ]
    },
    {
      "cell_type": "code",
      "metadata": {
        "id": "SfQRBmiNWehk"
      },
      "source": [
        "X = np.zeros((len(sub_sequences), maxlen, len(chars)), dtype=np.uint8 )\n",
        "Y = np.zeros((len(sub_sequences), len(chars)), dtype=np.uint8)\n",
        "for i, seq in enumerate(sub_sequences):\n",
        "    for t, char in enumerate(seq):\n",
        "        X[i, t, char_indices[char]] = 1\n",
        "        Y[i, char_indices[next_chars[i]]] = 1"
      ],
      "execution_count": 9,
      "outputs": []
    },
    {
      "cell_type": "code",
      "metadata": {
        "id": "U4qxjsGDXLtb",
        "colab": {
          "base_uri": "https://localhost:8080/"
        },
        "outputId": "f4f063b9-dd4b-45ab-d5cd-9e7b9af18ff2"
      },
      "source": [
        "X[0,0,:]"
      ],
      "execution_count": 10,
      "outputs": [
        {
          "output_type": "execute_result",
          "data": {
            "text/plain": [
              "array([0, 0, 0, 0, 0, 0, 0, 0, 0, 0, 0, 0, 0, 0, 0, 0, 0, 0, 0, 0, 0, 0,\n",
              "       0, 0, 0, 0, 0, 0, 0, 0, 0, 0, 0, 0, 0, 0, 0, 0, 0, 0, 0, 0, 0, 0,\n",
              "       0, 0, 0, 0, 0, 0, 0, 0, 0, 0, 0, 0, 0, 0, 0, 0, 0, 0, 0, 0, 0, 0,\n",
              "       0, 0, 0, 0, 0, 0, 0, 0, 1], dtype=uint8)"
            ]
          },
          "metadata": {
            "tags": []
          },
          "execution_count": 10
        }
      ]
    },
    {
      "cell_type": "code",
      "metadata": {
        "id": "423pgyKqXnE_",
        "colab": {
          "base_uri": "https://localhost:8080/"
        },
        "outputId": "4d515628-062b-42e4-89bc-3cf3024649b8"
      },
      "source": [
        "Y[0]"
      ],
      "execution_count": 11,
      "outputs": [
        {
          "output_type": "execute_result",
          "data": {
            "text/plain": [
              "array([0, 0, 0, 0, 0, 0, 0, 0, 0, 0, 0, 0, 0, 0, 0, 0, 0, 0, 0, 0, 0, 0,\n",
              "       0, 0, 0, 0, 0, 0, 0, 0, 0, 0, 0, 0, 0, 0, 0, 0, 0, 0, 0, 0, 0, 0,\n",
              "       0, 0, 0, 0, 0, 0, 0, 0, 0, 0, 0, 0, 0, 0, 0, 0, 1, 0, 0, 0, 0, 0,\n",
              "       0, 0, 0, 0, 0, 0, 0, 0, 0], dtype=uint8)"
            ]
          },
          "metadata": {
            "tags": []
          },
          "execution_count": 11
        }
      ]
    },
    {
      "cell_type": "markdown",
      "metadata": {
        "id": "2dJrr1caYVnI"
      },
      "source": [
        "Our RNN model will be quite simple."
      ]
    },
    {
      "cell_type": "code",
      "metadata": {
        "id": "95NSRVMpYGAT"
      },
      "source": [
        "char_rnn = Sequential()\n",
        "char_rnn.add(tfkl.LSTM(128, input_shape=(maxlen, len(chars))))\n",
        "char_rnn.add(tfkl.Dense(len(chars),activation=\"softmax\"))"
      ],
      "execution_count": 12,
      "outputs": []
    },
    {
      "cell_type": "code",
      "metadata": {
        "id": "t4xdUMP_Y6iu"
      },
      "source": [
        "char_rnn.compile(loss='categorical_crossentropy', optimizer=tfk.optimizers.RMSprop(lr=0.01))"
      ],
      "execution_count": 13,
      "outputs": []
    },
    {
      "cell_type": "code",
      "metadata": {
        "id": "KGDTEd0GZFNk",
        "colab": {
          "base_uri": "https://localhost:8080/"
        },
        "outputId": "c5f022bc-dabe-4e83-9448-71897cc71635"
      },
      "source": [
        "char_rnn.fit(X,Y, epochs=20, batch_size=1024)"
      ],
      "execution_count": 14,
      "outputs": [
        {
          "output_type": "stream",
          "text": [
            "Epoch 1/20\n",
            "38/38 [==============================] - 1s 14ms/step - loss: 3.2009\n",
            "Epoch 2/20\n",
            "38/38 [==============================] - 0s 13ms/step - loss: 2.5813\n",
            "Epoch 3/20\n",
            "38/38 [==============================] - 1s 13ms/step - loss: 2.1700\n",
            "Epoch 4/20\n",
            "38/38 [==============================] - 0s 13ms/step - loss: 1.9558\n",
            "Epoch 5/20\n",
            "38/38 [==============================] - 0s 13ms/step - loss: 1.8100\n",
            "Epoch 6/20\n",
            "38/38 [==============================] - 0s 13ms/step - loss: 1.7066\n",
            "Epoch 7/20\n",
            "38/38 [==============================] - 0s 13ms/step - loss: 1.6171\n",
            "Epoch 8/20\n",
            "38/38 [==============================] - 1s 13ms/step - loss: 1.5442\n",
            "Epoch 9/20\n",
            "38/38 [==============================] - 0s 13ms/step - loss: 1.4802\n",
            "Epoch 10/20\n",
            "38/38 [==============================] - 0s 13ms/step - loss: 1.4183\n",
            "Epoch 11/20\n",
            "38/38 [==============================] - 1s 13ms/step - loss: 1.3672\n",
            "Epoch 12/20\n",
            "38/38 [==============================] - 0s 13ms/step - loss: 1.3134\n",
            "Epoch 13/20\n",
            "38/38 [==============================] - 1s 13ms/step - loss: 1.2630\n",
            "Epoch 14/20\n",
            "38/38 [==============================] - 0s 13ms/step - loss: 1.2085\n",
            "Epoch 15/20\n",
            "38/38 [==============================] - 1s 13ms/step - loss: 1.1617\n",
            "Epoch 16/20\n",
            "38/38 [==============================] - 0s 13ms/step - loss: 1.1103\n",
            "Epoch 17/20\n",
            "38/38 [==============================] - 1s 13ms/step - loss: 1.0667\n",
            "Epoch 18/20\n",
            "38/38 [==============================] - 0s 13ms/step - loss: 1.0236\n",
            "Epoch 19/20\n",
            "38/38 [==============================] - 0s 13ms/step - loss: 0.9811\n",
            "Epoch 20/20\n",
            "38/38 [==============================] - 1s 13ms/step - loss: 0.9438\n"
          ],
          "name": "stdout"
        },
        {
          "output_type": "execute_result",
          "data": {
            "text/plain": [
              "<tensorflow.python.keras.callbacks.History at 0x7fbd764dedd8>"
            ]
          },
          "metadata": {
            "tags": []
          },
          "execution_count": 14
        }
      ]
    },
    {
      "cell_type": "markdown",
      "metadata": {
        "id": "6hhAWPgRX96V"
      },
      "source": [
        "Once we have a trained model, we can simulate new text by making predictions about the next character and then drawing characters in proportion to the predicted probabilities. And then simple repeat that process over and over, each time drawing the next character."
      ]
    },
    {
      "cell_type": "code",
      "metadata": {
        "id": "IMpJwYSsZSoc"
      },
      "source": [
        "def draw_char(probs):\n",
        "    probs = np.asarray(probs).astype('float64')\n",
        "    if sum(probs) != 1.0:\n",
        "      probs = probs / np.sum(probs)\n",
        "    draw = np.random.choice(range(len(probs)) , p=probs)\n",
        "    return draw\n",
        "\n",
        "def sample_text(model, sample_length=100):\n",
        "    start = np.random.randint(0, len(text) - maxlen - 1)\n",
        "    sequence = text[start: start + maxlen]\n",
        "  \n",
        "    x_preds = np.zeros((sample_length, maxlen, len(chars)))\n",
        "    for i in range(sample_length):\n",
        "        for t, char in enumerate(sequence[-maxlen:]):\n",
        "            x_preds[i, t, char_indices[char]] = 1.\n",
        "\n",
        "        preds = model.predict(np.expand_dims(x_preds[i,:,:], axis=0), verbose=0)[0]\n",
        "        next_index = draw_char(preds)\n",
        "        next_char = indices_char[next_index]\n",
        "\n",
        "        sequence += next_char\n",
        "    return sequence"
      ],
      "execution_count": 15,
      "outputs": []
    },
    {
      "cell_type": "code",
      "metadata": {
        "id": "jHD5iDlHayL7"
      },
      "source": [
        "sim = sample_text(char_rnn,sample_length=500) "
      ],
      "execution_count": 16,
      "outputs": []
    },
    {
      "cell_type": "code",
      "metadata": {
        "id": "bOP0ljRtOEmp",
        "colab": {
          "base_uri": "https://localhost:8080/"
        },
        "outputId": "5883f262-60ef-4a9a-c426-b3162c5dbe24"
      },
      "source": [
        "print(sim)"
      ],
      "execution_count": 17,
      "outputs": [
        {
          "output_type": "stream",
          "text": [
            "is lie, and, I think, being too strong fortend,\n",
            "    Do to the ipest this shall whose.\n",
            "                   Refunts and solfort.\n",
            "\n",
            "  LADY MACBETH. Whod's the sleep. 'tat to on the wordldoor leblice,\n",
            "    Thou age. If't bo countery-!\n",
            "\n",
            "  LADY MAcCuPM. Doo, Lodan his it that go! To thTim all opty\n",
            "    Which not like a breator (o' useint\n",
            "    To kind has wife our eme, bodien it boun\n",
            "    The suserous forth-I with Mucbeth.\n",
            "\n",
            "  MALCOLM. I which sount?\n",
            "  LADD MACBETH. My benok till andirte that the coultry breats Englind;\n",
            "    Them fill of samidith hi\n"
          ],
          "name": "stdout"
        }
      ]
    },
    {
      "cell_type": "markdown",
      "metadata": {
        "id": "Aj4kXg4BTbOc"
      },
      "source": [
        "Notice that we can do pretty well to learn the typical statistical patterns of this text and then simulate new text that appears to be very similar to legitimate Shakespeare. \n",
        "\n",
        "But just a caution - we can also do pretty well with a much simpler method (Markov model): http://nbviewer.jupyter.org/gist/yoavg/d76121dfde2618422139\n",
        "\n",
        "So the lesson is to try something simple before jumping right in to deep learning."
      ]
    },
    {
      "cell_type": "markdown",
      "metadata": {
        "id": "n5IE5xprp3RS"
      },
      "source": [
        "## Exercise"
      ]
    },
    {
      "cell_type": "markdown",
      "metadata": {
        "id": "HoN_s6nQsDdn"
      },
      "source": [
        "In this example, we're going to use an RNN for sequence classification. The task we'll set up is to generate a training set of randomized strings, and train our model to detect whether a string contains any vowels."
      ]
    },
    {
      "cell_type": "markdown",
      "metadata": {
        "id": "Isy5RPDdsTYT"
      },
      "source": [
        "First, we'll create a training dataset of short randomized character sequences and the corresponding label of whether or not they contain at least one vowel."
      ]
    },
    {
      "cell_type": "code",
      "metadata": {
        "id": "hE6C-Xl6p5W7"
      },
      "source": [
        "import string"
      ],
      "execution_count": 18,
      "outputs": []
    },
    {
      "cell_type": "code",
      "metadata": {
        "id": "CI7QA2Ewp-ZJ"
      },
      "source": [
        "def contains_vowels(sequence):\n",
        "  vowels = [\"a\", \"e\", \"i\", \"o\", \"u\"]\n",
        "  return any([vowel in list(sequence) for vowel in vowels])"
      ],
      "execution_count": 19,
      "outputs": []
    },
    {
      "cell_type": "code",
      "metadata": {
        "id": "oZ9cEhMrqtoG",
        "colab": {
          "base_uri": "https://localhost:8080/"
        },
        "outputId": "c033ca9d-cdcd-4e93-bf00-ab7e6fb024e8"
      },
      "source": [
        "contains_vowels(\"gradient\")"
      ],
      "execution_count": 20,
      "outputs": [
        {
          "output_type": "execute_result",
          "data": {
            "text/plain": [
              "True"
            ]
          },
          "metadata": {
            "tags": []
          },
          "execution_count": 20
        }
      ]
    },
    {
      "cell_type": "code",
      "metadata": {
        "id": "EwBEUPYwp9Z0"
      },
      "source": [
        "sequences = []\n",
        "labels = []\n",
        "for i in range(1000):\n",
        " char_list = np.random.choice( list(string.ascii_lowercase), size = 5, replace=True)\n",
        " seq = \"\".join(char_list)\n",
        " sequences.append(seq)\n",
        " labels.append(int(contains_vowels(seq)))"
      ],
      "execution_count": 21,
      "outputs": []
    },
    {
      "cell_type": "code",
      "metadata": {
        "id": "IkJXdy5krgHn"
      },
      "source": [
        "df = pd.DataFrame({\"sequence\": sequences, \"label\":labels})"
      ],
      "execution_count": 22,
      "outputs": []
    },
    {
      "cell_type": "code",
      "metadata": {
        "id": "ubAQf53Dr8zy",
        "colab": {
          "base_uri": "https://localhost:8080/",
          "height": 204
        },
        "outputId": "609fa3bc-6d6c-495f-d483-0361b0d31e7f"
      },
      "source": [
        "df.head()"
      ],
      "execution_count": 23,
      "outputs": [
        {
          "output_type": "execute_result",
          "data": {
            "text/html": [
              "<div>\n",
              "<style scoped>\n",
              "    .dataframe tbody tr th:only-of-type {\n",
              "        vertical-align: middle;\n",
              "    }\n",
              "\n",
              "    .dataframe tbody tr th {\n",
              "        vertical-align: top;\n",
              "    }\n",
              "\n",
              "    .dataframe thead th {\n",
              "        text-align: right;\n",
              "    }\n",
              "</style>\n",
              "<table border=\"1\" class=\"dataframe\">\n",
              "  <thead>\n",
              "    <tr style=\"text-align: right;\">\n",
              "      <th></th>\n",
              "      <th>sequence</th>\n",
              "      <th>label</th>\n",
              "    </tr>\n",
              "  </thead>\n",
              "  <tbody>\n",
              "    <tr>\n",
              "      <th>0</th>\n",
              "      <td>ohrwt</td>\n",
              "      <td>1</td>\n",
              "    </tr>\n",
              "    <tr>\n",
              "      <th>1</th>\n",
              "      <td>wrjba</td>\n",
              "      <td>1</td>\n",
              "    </tr>\n",
              "    <tr>\n",
              "      <th>2</th>\n",
              "      <td>wjnna</td>\n",
              "      <td>1</td>\n",
              "    </tr>\n",
              "    <tr>\n",
              "      <th>3</th>\n",
              "      <td>ztbtn</td>\n",
              "      <td>0</td>\n",
              "    </tr>\n",
              "    <tr>\n",
              "      <th>4</th>\n",
              "      <td>pxdvr</td>\n",
              "      <td>0</td>\n",
              "    </tr>\n",
              "  </tbody>\n",
              "</table>\n",
              "</div>"
            ],
            "text/plain": [
              "  sequence  label\n",
              "0    ohrwt      1\n",
              "1    wrjba      1\n",
              "2    wjnna      1\n",
              "3    ztbtn      0\n",
              "4    pxdvr      0"
            ]
          },
          "metadata": {
            "tags": []
          },
          "execution_count": 23
        }
      ]
    },
    {
      "cell_type": "markdown",
      "metadata": {
        "id": "2xkX8Xa8sfID"
      },
      "source": [
        "Next, set up and train an RNN (of any type) to solve this task. What preprocessing will you need to do first on the raw data in order to prepare it for the network?"
      ]
    },
    {
      "cell_type": "code",
      "metadata": {
        "id": "6M4Sj4XHr9hj"
      },
      "source": [
        "# Data Preprocessing\n",
        "# your code here"
      ],
      "execution_count": null,
      "outputs": []
    },
    {
      "cell_type": "code",
      "metadata": {
        "id": "68P3VBwpohU3"
      },
      "source": [
        "X = np.zeros(shape = (1000,5,26))\n",
        "Y = df[\"label\"].values"
      ],
      "execution_count": 24,
      "outputs": []
    },
    {
      "cell_type": "code",
      "metadata": {
        "id": "fb8Di0aTqVWU"
      },
      "source": [
        "for i, seq in enumerate(df[\"sequence\"]):\n",
        "    for t, char in enumerate(seq):\n",
        "        X[i][t][ord(char)-ord('a')] += 1"
      ],
      "execution_count": 26,
      "outputs": []
    },
    {
      "cell_type": "code",
      "metadata": {
        "id": "Og8gtSgHslED"
      },
      "source": [
        "# Model setup and training\n",
        "# your code here"
      ],
      "execution_count": null,
      "outputs": []
    },
    {
      "cell_type": "code",
      "metadata": {
        "id": "G1niMpw4qscx"
      },
      "source": [
        "model = Sequential()\n",
        "model.add(tfkl.LSTM(128, input_shape=(5,26)))\n",
        "model.add(tfkl.Dense(1,activation=\"sigmoid\"))\n",
        "model.compile(loss='binary_crossentropy', optimizer=tfk.optimizers.RMSprop(lr=0.01),metrics=['accuracy'])"
      ],
      "execution_count": 27,
      "outputs": []
    },
    {
      "cell_type": "code",
      "metadata": {
        "id": "lSLXwJvJszDu",
        "colab": {
          "base_uri": "https://localhost:8080/"
        },
        "outputId": "0dcbf40d-03c1-4229-8911-b513e01b92a0"
      },
      "source": [
        "model.summary()"
      ],
      "execution_count": 28,
      "outputs": [
        {
          "output_type": "stream",
          "text": [
            "Model: \"sequential_1\"\n",
            "_________________________________________________________________\n",
            "Layer (type)                 Output Shape              Param #   \n",
            "=================================================================\n",
            "lstm_1 (LSTM)                (None, 128)               79360     \n",
            "_________________________________________________________________\n",
            "dense_1 (Dense)              (None, 1)                 129       \n",
            "=================================================================\n",
            "Total params: 79,489\n",
            "Trainable params: 79,489\n",
            "Non-trainable params: 0\n",
            "_________________________________________________________________\n"
          ],
          "name": "stdout"
        }
      ]
    },
    {
      "cell_type": "code",
      "metadata": {
        "colab": {
          "base_uri": "https://localhost:8080/"
        },
        "id": "OJcrJ4qnh8hy",
        "outputId": "a0fe113b-7db3-46ea-cb78-4397d318c244"
      },
      "source": [
        "model.fit(X,Y, epochs=20, batch_size=1024)"
      ],
      "execution_count": 29,
      "outputs": [
        {
          "output_type": "stream",
          "text": [
            "Epoch 1/20\n",
            "1/1 [==============================] - 0s 4ms/step - loss: 0.6919 - accuracy: 0.5410\n",
            "Epoch 2/20\n",
            "1/1 [==============================] - 0s 1ms/step - loss: 0.6133 - accuracy: 0.6680\n",
            "Epoch 3/20\n",
            "1/1 [==============================] - 0s 1ms/step - loss: 0.7834 - accuracy: 0.3390\n",
            "Epoch 4/20\n",
            "1/1 [==============================] - 0s 1ms/step - loss: 0.6626 - accuracy: 0.6680\n",
            "Epoch 5/20\n",
            "1/1 [==============================] - 0s 1ms/step - loss: 0.6381 - accuracy: 0.6680\n",
            "Epoch 6/20\n",
            "1/1 [==============================] - 0s 2ms/step - loss: 0.5900 - accuracy: 0.6680\n",
            "Epoch 7/20\n",
            "1/1 [==============================] - 0s 2ms/step - loss: 0.5273 - accuracy: 0.6680\n",
            "Epoch 8/20\n",
            "1/1 [==============================] - 0s 2ms/step - loss: 0.5973 - accuracy: 0.8010\n",
            "Epoch 9/20\n",
            "1/1 [==============================] - 0s 1ms/step - loss: 0.3920 - accuracy: 0.7140\n",
            "Epoch 10/20\n",
            "1/1 [==============================] - 0s 1ms/step - loss: 0.3239 - accuracy: 0.8150\n",
            "Epoch 11/20\n",
            "1/1 [==============================] - 0s 1ms/step - loss: 0.4457 - accuracy: 0.7120\n",
            "Epoch 12/20\n",
            "1/1 [==============================] - 0s 1ms/step - loss: 0.3641 - accuracy: 0.6680\n",
            "Epoch 13/20\n",
            "1/1 [==============================] - 0s 1ms/step - loss: 0.3841 - accuracy: 0.9120\n",
            "Epoch 14/20\n",
            "1/1 [==============================] - 0s 1ms/step - loss: 0.2607 - accuracy: 0.9770\n",
            "Epoch 15/20\n",
            "1/1 [==============================] - 0s 2ms/step - loss: 0.2334 - accuracy: 0.9830\n",
            "Epoch 16/20\n",
            "1/1 [==============================] - 0s 1ms/step - loss: 0.2094 - accuracy: 0.9290\n",
            "Epoch 17/20\n",
            "1/1 [==============================] - 0s 1ms/step - loss: 0.2020 - accuracy: 0.9770\n",
            "Epoch 18/20\n",
            "1/1 [==============================] - 0s 1ms/step - loss: 0.5210 - accuracy: 0.7620\n",
            "Epoch 19/20\n",
            "1/1 [==============================] - 0s 1ms/step - loss: 0.3000 - accuracy: 0.6790\n",
            "Epoch 20/20\n",
            "1/1 [==============================] - 0s 3ms/step - loss: 0.2286 - accuracy: 1.0000\n"
          ],
          "name": "stdout"
        },
        {
          "output_type": "execute_result",
          "data": {
            "text/plain": [
              "<tensorflow.python.keras.callbacks.History at 0x7fbd5e2b8240>"
            ]
          },
          "metadata": {
            "tags": []
          },
          "execution_count": 29
        }
      ]
    }
  ]
}